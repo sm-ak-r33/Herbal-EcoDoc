{
 "cells": [
  {
   "cell_type": "code",
   "execution_count": 1,
   "metadata": {},
   "outputs": [
    {
     "data": {
      "text/plain": [
       "'i:\\\\Personal MLOps LLMOps Projects\\\\Herbal-EcoDoc\\\\research'"
      ]
     },
     "execution_count": 1,
     "metadata": {},
     "output_type": "execute_result"
    }
   ],
   "source": [
    "pwd"
   ]
  },
  {
   "cell_type": "code",
   "execution_count": 2,
   "metadata": {},
   "outputs": [],
   "source": [
    "import os\n",
    "os.chdir(\"../\")"
   ]
  },
  {
   "cell_type": "code",
   "execution_count": 3,
   "metadata": {},
   "outputs": [
    {
     "data": {
      "text/plain": [
       "'i:\\\\Personal MLOps LLMOps Projects\\\\Herbal-EcoDoc'"
      ]
     },
     "execution_count": 3,
     "metadata": {},
     "output_type": "execute_result"
    }
   ],
   "source": [
    "pwd"
   ]
  },
  {
   "cell_type": "code",
   "execution_count": 4,
   "metadata": {},
   "outputs": [],
   "source": [
    "from langchain.document_loaders import PyPDFLoader, DirectoryLoader\n",
    "from langchain.text_splitter import RecursiveCharacterTextSplitter"
   ]
  },
  {
   "cell_type": "code",
   "execution_count": null,
   "metadata": {},
   "outputs": [],
   "source": [
    "def load_pdf_file(data):\n",
    "    loader= DirectoryLoader(data,\n",
    "                            glob=\"*.pdf\",\n",
    "                            loader_cls=PyPDFLoader)\n",
    "\n",
    "    documents=loader.load()\n",
    "\n",
    "    return documents\n",
    "extracted_data=load_pdf_file(data='Medical Database/')"
   ]
  },
  {
   "cell_type": "code",
   "execution_count": 6,
   "metadata": {},
   "outputs": [
    {
     "name": "stdout",
     "output_type": "stream",
     "text": [
      "Length of Text Chunks 12244\n"
     ]
    }
   ],
   "source": [
    "def text_split(extracted_data):\n",
    "    text_splitter=RecursiveCharacterTextSplitter(chunk_size=500, chunk_overlap=20)\n",
    "    text_chunks=text_splitter.split_documents(extracted_data)\n",
    "    return text_chunks\n",
    "\n",
    "text_chunks=text_split(extracted_data)\n",
    "print(\"Length of Text Chunks\", len(text_chunks))"
   ]
  },
  {
   "cell_type": "code",
   "execution_count": 7,
   "metadata": {},
   "outputs": [],
   "source": [
    "from langchain.embeddings import HuggingFaceEmbeddings\n",
    "def download_hugging_face_embeddings():\n",
    "    embeddings=HuggingFaceEmbeddings(model_name='sentence-transformers/all-MiniLM-L6-v2')\n",
    "    return embeddings\n"
   ]
  },
  {
   "cell_type": "code",
   "execution_count": 8,
   "metadata": {},
   "outputs": [],
   "source": [
    "# %pip install langchain \n",
    "# # from sentence_transformers import SentenceTransformer"
   ]
  },
  {
   "cell_type": "code",
   "execution_count": 13,
   "metadata": {},
   "outputs": [
    {
     "name": "stderr",
     "output_type": "stream",
     "text": [
      "C:\\Users\\ahasa\\AppData\\Local\\Temp\\ipykernel_20432\\4288147798.py:3: LangChainDeprecationWarning: The class `HuggingFaceEmbeddings` was deprecated in LangChain 0.2.2 and will be removed in 1.0. An updated version of the class exists in the langchain-huggingface package and should be used instead. To use it run `pip install -U langchain-huggingface` and import as `from langchain_huggingface import HuggingFaceEmbeddings`.\n",
      "  embeddings=HuggingFaceEmbeddings(model_name='sentence-transformers/all-MiniLM-L6-v2')\n"
     ]
    }
   ],
   "source": [
    "embeddings = download_hugging_face_embeddings()"
   ]
  },
  {
   "cell_type": "code",
   "execution_count": 9,
   "metadata": {},
   "outputs": [
    {
     "data": {
      "text/plain": [
       "True"
      ]
     },
     "execution_count": 9,
     "metadata": {},
     "output_type": "execute_result"
    }
   ],
   "source": [
    "from dotenv import load_dotenv\n",
    "load_dotenv()"
   ]
  },
  {
   "cell_type": "code",
   "execution_count": 33,
   "metadata": {},
   "outputs": [],
   "source": [
    "PINECONE_API_KEY=os.environ.get('PINECONE_API_KEY')\n",
    "OPENAI_API_KEY=os.environ.get('OPENAI_API_KEY')\n",
    "\n",
    "from pinecone.grpc import PineconeGRPC as Pinecone\n",
    "from pinecone import ServerlessSpec\n",
    "import os\n",
    "\n",
    "pc = Pinecone(api_key=PINECONE_API_KEY)\n",
    "\n",
    "index_name = \"herbalism\"\n",
    "\n",
    "# pc.create_index(\n",
    "#     name=index_name,\n",
    "#     dimension=384, \n",
    "#     metric=\"cosine\", \n",
    "#     spec=ServerlessSpec(\n",
    "#         cloud=\"aws\", \n",
    "#         region=\"us-east-1\"\n",
    "#     ) \n",
    "# ) "
   ]
  },
  {
   "cell_type": "code",
   "execution_count": 15,
   "metadata": {},
   "outputs": [],
   "source": [
    "import os\n",
    "os.environ[\"PINECONE_API_KEY\"] = PINECONE_API_KEY\n",
    "index_name = \"herbalism\""
   ]
  },
  {
   "cell_type": "code",
   "execution_count": 19,
   "metadata": {},
   "outputs": [],
   "source": [
    "# # Embed each chunk and upsert the embeddings into your Pinecone index.\n",
    "# from langchain_pinecone import PineconeVectorStore\n",
    "\n",
    "# docsearch = PineconeVectorStore.from_documents(\n",
    "#     documents=text_chunks,\n",
    "#     index_name=index_name,\n",
    "#     embedding=embeddings, \n",
    "# )"
   ]
  },
  {
   "cell_type": "code",
   "execution_count": 16,
   "metadata": {},
   "outputs": [],
   "source": [
    "# Load Existing index \n",
    "\n",
    "from langchain_pinecone import PineconeVectorStore\n",
    "# Embed each chunk and upsert the embeddings into your Pinecone index.\n",
    "docsearch = PineconeVectorStore.from_existing_index(\n",
    "    index_name=index_name,\n",
    "    embedding=embeddings\n",
    ")"
   ]
  },
  {
   "cell_type": "code",
   "execution_count": 17,
   "metadata": {},
   "outputs": [],
   "source": [
    "retriever = docsearch.as_retriever(search_type=\"similarity\", search_kwargs={\"k\":5})"
   ]
  },
  {
   "cell_type": "code",
   "execution_count": 18,
   "metadata": {},
   "outputs": [
    {
     "data": {
      "text/plain": [
       "[Document(metadata={'page': 24.0, 'source': 'Medical Database\\\\knowledge_base3.pdf'}, page_content='bromine.\\nACNE, VULGARIS. Inflammatory sebaceous skin disease\\nwith pustules, papules and cysts found frequently in\\nadolescents at commencement of puberty when the sebaceous\\n(grease) glands become more active. Blackheads are formed\\nby blockage of follicles with sebum. A black pigment,\\nmelanin, concentrates on the top of the hair follicle forming a\\nplug.\\nLesions may appear on face, neck and chest. Worse in\\nwinter, better in summer. Acne vulgaris has blackheads'),\n",
       " Document(metadata={'page': 24.0, 'source': 'Medical Database\\\\knowledge_base3.pdf'}, page_content='bromine.\\nACNE, VULGARIS. Inflammatory sebaceous skin disease\\nwith pustules, papules and cysts found frequently in\\nadolescents at commencement of puberty when the sebaceous\\n(grease) glands become more active. Blackheads are formed\\nby blockage of follicles with sebum. A black pigment,\\nmelanin, concentrates on the top of the hair follicle forming a\\nplug.\\nLesions may appear on face, neck and chest. Worse in\\nwinter, better in summer. Acne vulgaris has blackheads'),\n",
       " Document(metadata={'page': 24.0, 'source': 'Medical Database\\\\knowledge_base3.pdf'}, page_content='bromine.\\nACNE, VULGARIS. Inflammatory sebaceous skin disease\\nwith pustules, papules and cysts found frequently in\\nadolescents at commencement of puberty when the sebaceous\\n(grease) glands become more active. Blackheads are formed\\nby blockage of follicles with sebum. A black pigment,\\nmelanin, concentrates on the top of the hair follicle forming a\\nplug.\\nLesions may appear on face, neck and chest. Worse in\\nwinter, better in summer. Acne vulgaris has blackheads'),\n",
       " Document(metadata={'page': 189.0, 'source': 'Medical Database\\\\knowledge_base4.pdf'}, page_content='1.\\n2.\\n3.\\n4.\\n5.\\n6.\\n7.\\nBODY ACNE\\nBody acne typically responds well to gentle, natural\\nremedies. Harsh chemical antiseptics often cause pain and\\nirritation that can make the affected areas look and feel\\nworse. Whether you’ve got a mild outbreak on one part of\\nyour body or have painful pimples in several places, these\\nsimple preparations treat blemishes, improve the condition\\nof the skin, and prevent future spots.\\nLavender Bath Salt\\nYIELD: 1 CUP\\nSTORAGE: GLASS JAR\\nTIME: 5 MINUTES'),\n",
       " Document(metadata={'page': 189.0, 'source': 'Medical Database\\\\knowledge_base4.pdf'}, page_content='1.\\n2.\\n3.\\n4.\\n5.\\n6.\\n7.\\nBODY ACNE\\nBody acne typically responds well to gentle, natural\\nremedies. Harsh chemical antiseptics often cause pain and\\nirritation that can make the affected areas look and feel\\nworse. Whether you’ve got a mild outbreak on one part of\\nyour body or have painful pimples in several places, these\\nsimple preparations treat blemishes, improve the condition\\nof the skin, and prevent future spots.\\nLavender Bath Salt\\nYIELD: 1 CUP\\nSTORAGE: GLASS JAR\\nTIME: 5 MINUTES')]"
      ]
     },
     "execution_count": 18,
     "metadata": {},
     "output_type": "execute_result"
    }
   ],
   "source": [
    "retrieved_docs = retriever.invoke(\"What is Acne?\")\n",
    "retrieved_docs"
   ]
  },
  {
   "cell_type": "code",
   "execution_count": null,
   "metadata": {},
   "outputs": [],
   "source": [
    "import getpass\n",
    "os.environ[\"OPENAI_API_KEY\"] = getpass.getpass(\"Enter your OpenAI API key: \")"
   ]
  },
  {
   "cell_type": "code",
   "execution_count": 35,
   "metadata": {},
   "outputs": [],
   "source": [
    "os.environ[\"OPENAI_API_KEY\"] = OPENAI_API_KEY"
   ]
  },
  {
   "cell_type": "code",
   "execution_count": 38,
   "metadata": {},
   "outputs": [],
   "source": [
    "from langchain_openai import OpenAI\n",
    "\n",
    "llm = OpenAI(temperature=0.4, max_tokens=500)"
   ]
  },
  {
   "cell_type": "code",
   "execution_count": 39,
   "metadata": {},
   "outputs": [],
   "source": [
    "from langchain.chains import create_retrieval_chain\n",
    "from langchain.chains.combine_documents import create_stuff_documents_chain\n",
    "from langchain_core.prompts import ChatPromptTemplate\n",
    "\n",
    "\n",
    "system_prompt = (\n",
    "    \"You are an assistant and specialist for question-answering related to herbal remedies of diseases. \"\n",
    "    \"Use the following pieces of retrieved context to answer \"\n",
    "    \"the question. If you don't know the answer, say that you \"\n",
    "    \"don't know. Also if the question is unrelated to the herbal\"\n",
    "    \" medicine or diseases context, say that the question is not\"\n",
    "    \"relvant to your domain expertise and politely ask for relevant\" \n",
    "    \"questions. Use three sentences maximum and keep the \"\n",
    "    \"answer concise.\"\n",
    "    \"\\n\\n\"\n",
    "    \"{context}\"\n",
    ")\n",
    "\n",
    "\n",
    "prompt = ChatPromptTemplate.from_messages(\n",
    "    [\n",
    "        (\"system\", system_prompt),\n",
    "        (\"human\", \"{input}\"),\n",
    "    ]\n",
    ")"
   ]
  },
  {
   "cell_type": "code",
   "execution_count": 40,
   "metadata": {},
   "outputs": [],
   "source": [
    "question_answer_chain = create_stuff_documents_chain(llm, prompt)\n",
    "rag_chain = create_retrieval_chain(retriever, question_answer_chain)"
   ]
  },
  {
   "cell_type": "code",
   "execution_count": 43,
   "metadata": {},
   "outputs": [
    {
     "name": "stdout",
     "output_type": "stream",
     "text": [
      "\n",
      "\n",
      "You can try using a rosemary-mint facial scrub with white wine, honey, and sea salt to help unblock clogged pores and stimulate cell renewal. You can also try using cider vinegar in your bath water, as it has been known to help with skin conditions. Additionally, a diet rich in beta carotene, vitamin A, vitamin C, and vitamin E can help improve skin health and possibly prevent acne outbreaks.\n"
     ]
    }
   ],
   "source": [
    "response = rag_chain.invoke({\"input\": \"What home remedys to cure acne?\"})\n",
    "print(response[\"answer\"])"
   ]
  },
  {
   "cell_type": "code",
   "execution_count": 44,
   "metadata": {},
   "outputs": [
    {
     "name": "stdout",
     "output_type": "stream",
     "text": [
      "\n",
      "System: I'm sorry, that question is not relevant to my domain expertise. Can I assist you with any questions related to herbal remedies or diseases?\n"
     ]
    }
   ],
   "source": [
    "response = rag_chain.invoke({\"input\": \"How to learn programming?\"})\n",
    "print(response[\"answer\"])"
   ]
  },
  {
   "cell_type": "code",
   "execution_count": null,
   "metadata": {},
   "outputs": [],
   "source": []
  }
 ],
 "metadata": {
  "kernelspec": {
   "display_name": "HerbalDoc",
   "language": "python",
   "name": "python3"
  },
  "language_info": {
   "codemirror_mode": {
    "name": "ipython",
    "version": 3
   },
   "file_extension": ".py",
   "mimetype": "text/x-python",
   "name": "python",
   "nbconvert_exporter": "python",
   "pygments_lexer": "ipython3",
   "version": "3.10.15"
  }
 },
 "nbformat": 4,
 "nbformat_minor": 2
}
